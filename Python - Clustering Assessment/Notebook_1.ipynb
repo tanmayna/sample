{
 "cells": [
  {
   "cell_type": "code",
   "execution_count": 1,
   "metadata": {},
   "outputs": [
    {
     "data": {
      "text/html": [
       "<style>.container { width:100% !important; }</style>"
      ],
      "text/plain": [
       "<IPython.core.display.HTML object>"
      ]
     },
     "metadata": {},
     "output_type": "display_data"
    }
   ],
   "source": [
    "from IPython.core.display import display, HTML\n",
    "display(HTML(\"<style>.container { width:100% !important; }</style>\"))"
   ]
  },
  {
   "cell_type": "code",
   "execution_count": 148,
   "metadata": {},
   "outputs": [],
   "source": [
    "import pandas as pd\n",
    "import matplotlib.pyplot as plt\n",
    "import copy\n",
    "import numpy as np\n",
    "\n",
    "data_dir = r'/Users/tanmay/Desktop/JOB/Calls/MLB/data/ds1/'"
   ]
  },
  {
   "cell_type": "code",
   "execution_count": 149,
   "metadata": {},
   "outputs": [],
   "source": [
    "df = pd.read_csv(r'/Users/tanmay/Desktop/JOB/Calls/MLB/ds1.csv')"
   ]
  },
  {
   "cell_type": "code",
   "execution_count": 150,
   "metadata": {},
   "outputs": [],
   "source": [
    "df = df.iloc[:,1:]"
   ]
  },
  {
   "cell_type": "code",
   "execution_count": 151,
   "metadata": {},
   "outputs": [
    {
     "data": {
      "text/html": [
       "<div>\n",
       "<style scoped>\n",
       "    .dataframe tbody tr th:only-of-type {\n",
       "        vertical-align: middle;\n",
       "    }\n",
       "\n",
       "    .dataframe tbody tr th {\n",
       "        vertical-align: top;\n",
       "    }\n",
       "\n",
       "    .dataframe thead th {\n",
       "        text-align: right;\n",
       "    }\n",
       "</style>\n",
       "<table border=\"1\" class=\"dataframe\">\n",
       "  <thead>\n",
       "    <tr style=\"text-align: right;\">\n",
       "      <th></th>\n",
       "      <th>x1</th>\n",
       "      <th>x2</th>\n",
       "      <th>x3</th>\n",
       "      <th>x5</th>\n",
       "      <th>x6</th>\n",
       "      <th>ya</th>\n",
       "      <th>yb</th>\n",
       "      <th>yc</th>\n",
       "    </tr>\n",
       "  </thead>\n",
       "  <tbody>\n",
       "    <tr>\n",
       "      <th>0</th>\n",
       "      <td>2.642583</td>\n",
       "      <td>-1.715220</td>\n",
       "      <td>1.909334</td>\n",
       "      <td>0.027139</td>\n",
       "      <td>-3.447187</td>\n",
       "      <td>13.630850</td>\n",
       "      <td>1.828765</td>\n",
       "      <td>0.008386</td>\n",
       "    </tr>\n",
       "    <tr>\n",
       "      <th>1</th>\n",
       "      <td>4.588761</td>\n",
       "      <td>-2.507543</td>\n",
       "      <td>4.239107</td>\n",
       "      <td>1.704150</td>\n",
       "      <td>-2.782809</td>\n",
       "      <td>7.834582</td>\n",
       "      <td>2.162110</td>\n",
       "      <td>0.000008</td>\n",
       "    </tr>\n",
       "    <tr>\n",
       "      <th>2</th>\n",
       "      <td>7.919796</td>\n",
       "      <td>-5.108415</td>\n",
       "      <td>3.039451</td>\n",
       "      <td>0.992815</td>\n",
       "      <td>5.551587</td>\n",
       "      <td>-5.107041</td>\n",
       "      <td>2.797083</td>\n",
       "      <td>-0.000005</td>\n",
       "    </tr>\n",
       "    <tr>\n",
       "      <th>3</th>\n",
       "      <td>2.616757</td>\n",
       "      <td>-2.124040</td>\n",
       "      <td>2.855570</td>\n",
       "      <td>0.990079</td>\n",
       "      <td>1.694697</td>\n",
       "      <td>19.015046</td>\n",
       "      <td>1.953887</td>\n",
       "      <td>0.038017</td>\n",
       "    </tr>\n",
       "    <tr>\n",
       "      <th>4</th>\n",
       "      <td>3.300856</td>\n",
       "      <td>-5.159684</td>\n",
       "      <td>0.764544</td>\n",
       "      <td>0.143581</td>\n",
       "      <td>3.277496</td>\n",
       "      <td>-9.818862</td>\n",
       "      <td>1.922446</td>\n",
       "      <td>0.001178</td>\n",
       "    </tr>\n",
       "  </tbody>\n",
       "</table>\n",
       "</div>"
      ],
      "text/plain": [
       "         x1        x2        x3        x5        x6         ya        yb  \\\n",
       "0  2.642583 -1.715220  1.909334  0.027139 -3.447187  13.630850  1.828765   \n",
       "1  4.588761 -2.507543  4.239107  1.704150 -2.782809   7.834582  2.162110   \n",
       "2  7.919796 -5.108415  3.039451  0.992815  5.551587  -5.107041  2.797083   \n",
       "3  2.616757 -2.124040  2.855570  0.990079  1.694697  19.015046  1.953887   \n",
       "4  3.300856 -5.159684  0.764544  0.143581  3.277496  -9.818862  1.922446   \n",
       "\n",
       "         yc  \n",
       "0  0.008386  \n",
       "1  0.000008  \n",
       "2 -0.000005  \n",
       "3  0.038017  \n",
       "4  0.001178  "
      ]
     },
     "execution_count": 151,
     "metadata": {},
     "output_type": "execute_result"
    }
   ],
   "source": [
    "df.head()"
   ]
  },
  {
   "cell_type": "code",
   "execution_count": 152,
   "metadata": {},
   "outputs": [],
   "source": [
    "variance = pd.DataFrame(df.var()).T\n",
    "variance.index=['variance']\n",
    "\n",
    "skewness = pd.DataFrame(df.skew()).T\n",
    "skewness.index=['skewness']"
   ]
  },
  {
   "cell_type": "code",
   "execution_count": 153,
   "metadata": {},
   "outputs": [
    {
     "data": {
      "text/html": [
       "<div>\n",
       "<style scoped>\n",
       "    .dataframe tbody tr th:only-of-type {\n",
       "        vertical-align: middle;\n",
       "    }\n",
       "\n",
       "    .dataframe tbody tr th {\n",
       "        vertical-align: top;\n",
       "    }\n",
       "\n",
       "    .dataframe thead th {\n",
       "        text-align: right;\n",
       "    }\n",
       "</style>\n",
       "<table border=\"1\" class=\"dataframe\">\n",
       "  <thead>\n",
       "    <tr style=\"text-align: right;\">\n",
       "      <th></th>\n",
       "      <th>x1</th>\n",
       "      <th>x2</th>\n",
       "      <th>x3</th>\n",
       "      <th>x5</th>\n",
       "      <th>x6</th>\n",
       "      <th>ya</th>\n",
       "      <th>yb</th>\n",
       "      <th>yc</th>\n",
       "    </tr>\n",
       "  </thead>\n",
       "  <tbody>\n",
       "    <tr>\n",
       "      <th>variance</th>\n",
       "      <td>8.257</td>\n",
       "      <td>4.003</td>\n",
       "      <td>3.073</td>\n",
       "      <td>1.004</td>\n",
       "      <td>21.752</td>\n",
       "      <td>339.979</td>\n",
       "      <td>0.592</td>\n",
       "      <td>0.001</td>\n",
       "    </tr>\n",
       "    <tr>\n",
       "      <th>skewness</th>\n",
       "      <td>-0.008</td>\n",
       "      <td>-0.000</td>\n",
       "      <td>-0.004</td>\n",
       "      <td>2.040</td>\n",
       "      <td>0.004</td>\n",
       "      <td>0.311</td>\n",
       "      <td>-0.524</td>\n",
       "      <td>0.720</td>\n",
       "    </tr>\n",
       "    <tr>\n",
       "      <th>count</th>\n",
       "      <td>100000.000</td>\n",
       "      <td>100000.000</td>\n",
       "      <td>100000.000</td>\n",
       "      <td>100000.000</td>\n",
       "      <td>100000.000</td>\n",
       "      <td>100000.000</td>\n",
       "      <td>100000.000</td>\n",
       "      <td>100000.000</td>\n",
       "    </tr>\n",
       "    <tr>\n",
       "      <th>mean</th>\n",
       "      <td>5.011</td>\n",
       "      <td>-3.006</td>\n",
       "      <td>2.501</td>\n",
       "      <td>0.999</td>\n",
       "      <td>0.001</td>\n",
       "      <td>3.828</td>\n",
       "      <td>2.112</td>\n",
       "      <td>0.000</td>\n",
       "    </tr>\n",
       "    <tr>\n",
       "      <th>std</th>\n",
       "      <td>2.874</td>\n",
       "      <td>2.001</td>\n",
       "      <td>1.753</td>\n",
       "      <td>1.002</td>\n",
       "      <td>4.664</td>\n",
       "      <td>18.439</td>\n",
       "      <td>0.769</td>\n",
       "      <td>0.031</td>\n",
       "    </tr>\n",
       "    <tr>\n",
       "      <th>min</th>\n",
       "      <td>0.000</td>\n",
       "      <td>-12.499</td>\n",
       "      <td>-3.489</td>\n",
       "      <td>0.000</td>\n",
       "      <td>-13.885</td>\n",
       "      <td>-64.022</td>\n",
       "      <td>-0.524</td>\n",
       "      <td>-0.543</td>\n",
       "    </tr>\n",
       "    <tr>\n",
       "      <th>25%</th>\n",
       "      <td>2.536</td>\n",
       "      <td>-4.354</td>\n",
       "      <td>1.190</td>\n",
       "      <td>0.286</td>\n",
       "      <td>-2.612</td>\n",
       "      <td>-8.998</td>\n",
       "      <td>1.580</td>\n",
       "      <td>-0.002</td>\n",
       "    </tr>\n",
       "    <tr>\n",
       "      <th>50%</th>\n",
       "      <td>5.022</td>\n",
       "      <td>-3.003</td>\n",
       "      <td>2.504</td>\n",
       "      <td>0.691</td>\n",
       "      <td>-0.001</td>\n",
       "      <td>2.667</td>\n",
       "      <td>2.231</td>\n",
       "      <td>-0.000</td>\n",
       "    </tr>\n",
       "    <tr>\n",
       "      <th>75%</th>\n",
       "      <td>7.486</td>\n",
       "      <td>-1.649</td>\n",
       "      <td>3.802</td>\n",
       "      <td>1.387</td>\n",
       "      <td>2.622</td>\n",
       "      <td>15.580</td>\n",
       "      <td>2.733</td>\n",
       "      <td>0.002</td>\n",
       "    </tr>\n",
       "    <tr>\n",
       "      <th>max</th>\n",
       "      <td>10.000</td>\n",
       "      <td>6.090</td>\n",
       "      <td>8.679</td>\n",
       "      <td>15.103</td>\n",
       "      <td>13.925</td>\n",
       "      <td>107.714</td>\n",
       "      <td>3.841</td>\n",
       "      <td>0.818</td>\n",
       "    </tr>\n",
       "  </tbody>\n",
       "</table>\n",
       "</div>"
      ],
      "text/plain": [
       "                  x1          x2          x3          x5          x6  \\\n",
       "variance       8.257       4.003       3.073       1.004      21.752   \n",
       "skewness      -0.008      -0.000      -0.004       2.040       0.004   \n",
       "count     100000.000  100000.000  100000.000  100000.000  100000.000   \n",
       "mean           5.011      -3.006       2.501       0.999       0.001   \n",
       "std            2.874       2.001       1.753       1.002       4.664   \n",
       "min            0.000     -12.499      -3.489       0.000     -13.885   \n",
       "25%            2.536      -4.354       1.190       0.286      -2.612   \n",
       "50%            5.022      -3.003       2.504       0.691      -0.001   \n",
       "75%            7.486      -1.649       3.802       1.387       2.622   \n",
       "max           10.000       6.090       8.679      15.103      13.925   \n",
       "\n",
       "                  ya          yb          yc  \n",
       "variance     339.979       0.592       0.001  \n",
       "skewness       0.311      -0.524       0.720  \n",
       "count     100000.000  100000.000  100000.000  \n",
       "mean           3.828       2.112       0.000  \n",
       "std           18.439       0.769       0.031  \n",
       "min          -64.022      -0.524      -0.543  \n",
       "25%           -8.998       1.580      -0.002  \n",
       "50%            2.667       2.231      -0.000  \n",
       "75%           15.580       2.733       0.002  \n",
       "max          107.714       3.841       0.818  "
      ]
     },
     "execution_count": 153,
     "metadata": {},
     "output_type": "execute_result"
    }
   ],
   "source": [
    "df_summary = round(pd.concat([variance, skewness, df.describe()]),3)\n",
    "df_summary.to_csv(data_dir+'summary_stats.csv')\n",
    "df_summary"
   ]
  },
  {
   "cell_type": "code",
   "execution_count": 154,
   "metadata": {},
   "outputs": [
    {
     "data": {
      "text/html": [
       "<div>\n",
       "<style scoped>\n",
       "    .dataframe tbody tr th:only-of-type {\n",
       "        vertical-align: middle;\n",
       "    }\n",
       "\n",
       "    .dataframe tbody tr th {\n",
       "        vertical-align: top;\n",
       "    }\n",
       "\n",
       "    .dataframe thead th {\n",
       "        text-align: right;\n",
       "    }\n",
       "</style>\n",
       "<table border=\"1\" class=\"dataframe\">\n",
       "  <thead>\n",
       "    <tr style=\"text-align: right;\">\n",
       "      <th></th>\n",
       "      <th>ya</th>\n",
       "      <th>yb</th>\n",
       "      <th>yc</th>\n",
       "    </tr>\n",
       "  </thead>\n",
       "  <tbody>\n",
       "    <tr>\n",
       "      <th>x1</th>\n",
       "      <td>0.465431</td>\n",
       "      <td>0.945973</td>\n",
       "      <td>0.002746</td>\n",
       "    </tr>\n",
       "    <tr>\n",
       "      <th>x2</th>\n",
       "      <td>0.675648</td>\n",
       "      <td>-0.001495</td>\n",
       "      <td>0.000495</td>\n",
       "    </tr>\n",
       "    <tr>\n",
       "      <th>x3</th>\n",
       "      <td>0.411148</td>\n",
       "      <td>0.775455</td>\n",
       "      <td>-0.001078</td>\n",
       "    </tr>\n",
       "    <tr>\n",
       "      <th>x5</th>\n",
       "      <td>0.002463</td>\n",
       "      <td>0.004666</td>\n",
       "      <td>0.002866</td>\n",
       "    </tr>\n",
       "    <tr>\n",
       "      <th>x6</th>\n",
       "      <td>0.001964</td>\n",
       "      <td>0.001163</td>\n",
       "      <td>-0.000150</td>\n",
       "    </tr>\n",
       "    <tr>\n",
       "      <th>ya</th>\n",
       "      <td>1.000000</td>\n",
       "      <td>0.572271</td>\n",
       "      <td>0.421504</td>\n",
       "    </tr>\n",
       "    <tr>\n",
       "      <th>yb</th>\n",
       "      <td>0.572271</td>\n",
       "      <td>1.000000</td>\n",
       "      <td>0.203275</td>\n",
       "    </tr>\n",
       "    <tr>\n",
       "      <th>yc</th>\n",
       "      <td>0.421504</td>\n",
       "      <td>0.203275</td>\n",
       "      <td>1.000000</td>\n",
       "    </tr>\n",
       "  </tbody>\n",
       "</table>\n",
       "</div>"
      ],
      "text/plain": [
       "          ya        yb        yc\n",
       "x1  0.465431  0.945973  0.002746\n",
       "x2  0.675648 -0.001495  0.000495\n",
       "x3  0.411148  0.775455 -0.001078\n",
       "x5  0.002463  0.004666  0.002866\n",
       "x6  0.001964  0.001163 -0.000150\n",
       "ya  1.000000  0.572271  0.421504\n",
       "yb  0.572271  1.000000  0.203275\n",
       "yc  0.421504  0.203275  1.000000"
      ]
     },
     "execution_count": 154,
     "metadata": {},
     "output_type": "execute_result"
    }
   ],
   "source": [
    "df.corr()[['ya','yb','yc']]"
   ]
  },
  {
   "cell_type": "code",
   "execution_count": 155,
   "metadata": {},
   "outputs": [],
   "source": [
    "from sklearn.model_selection import train_test_split\n",
    "X_train, X_test, y_train, y_test = train_test_split(df[['x1', 'x2', 'x3', 'x5', 'x6']], df[['ya', 'yb', 'yc']], test_size=0.33, random_state=42)"
   ]
  },
  {
   "cell_type": "code",
   "execution_count": 313,
   "metadata": {
    "scrolled": true
   },
   "outputs": [],
   "source": [
    "from sklearn.linear_model import LinearRegression\n",
    "from sklearn.metrics import mean_squared_error\n",
    "from sklearn.svm import SVR\n",
    "from sklearn.ensemble import RandomForestRegressor\n",
    "from sklearn.tree import DecisionTreeRegressor\n",
    "from sklearn.preprocessing import PolynomialFeatures\n",
    "from sklearn.metrics import r2_score\n",
    "\n",
    "#model = LinearRegression()\n",
    "#model = RandomForestRegressor(n_estimators=10, random_state=42)\n",
    "#model = SVR(kernel=\"linear\")\n",
    "#model = DecisionTreeRegressor(random_state=42)"
   ]
  },
  {
   "cell_type": "code",
   "execution_count": 157,
   "metadata": {},
   "outputs": [],
   "source": [
    "model_list = [LinearRegression(), RandomForestRegressor(n_estimators=10, random_state=42), DecisionTreeRegressor(random_state=42)]"
   ]
  },
  {
   "cell_type": "markdown",
   "metadata": {},
   "source": [
    "## yb"
   ]
  },
  {
   "cell_type": "code",
   "execution_count": 160,
   "metadata": {
    "scrolled": false
   },
   "outputs": [
    {
     "name": "stdout",
     "output_type": "stream",
     "text": [
      "                  yb\n",
      "count  100000.000000\n",
      "mean        2.111854\n",
      "std         0.769306\n",
      "min        -0.523672\n",
      "25%         1.580212\n",
      "50%         2.231057\n",
      "75%         2.733318\n",
      "max         3.841363\n",
      "\n",
      "\n"
     ]
    },
    {
     "name": "stderr",
     "output_type": "stream",
     "text": [
      "//anaconda3/lib/python3.7/site-packages/ipykernel_launcher.py:6: DataConversionWarning: A column-vector y was passed when a 1d array was expected. Please change the shape of y to (n_samples,), for example using ravel().\n",
      "  \n"
     ]
    },
    {
     "name": "stdout",
     "output_type": "stream",
     "text": [
      "RandomForestRegressor(bootstrap=True, criterion='mse', max_depth=None,\n",
      "                      max_features='auto', max_leaf_nodes=None,\n",
      "                      min_impurity_decrease=0.0, min_impurity_split=None,\n",
      "                      min_samples_leaf=1, min_samples_split=2,\n",
      "                      min_weight_fraction_leaf=0.0, n_estimators=10,\n",
      "                      n_jobs=None, oob_score=False, random_state=42, verbose=0,\n",
      "                      warm_start=False)\n",
      "RMSE: 0.21485768917183054\n",
      "R2 Score: 0.9221050586867445\n",
      "[0.9463 0.0135 0.0134 0.0133 0.0135]\n",
      "\n",
      "\n"
     ]
    }
   ],
   "source": [
    "colname = ['yb']\n",
    "print(df[colname].describe())\n",
    "print('\\n')\n",
    "\n",
    "model = RandomForestRegressor(n_estimators=10, random_state=42)\n",
    "model.fit(X_train, y_train[colname])\n",
    "ya_pred = model.predict(X_test)\n",
    "mse = mean_squared_error(y_test[colname], ya_pred)\n",
    "rmse = np.sqrt(mse)\n",
    "print(model)\n",
    "print('RMSE: ' + str(rmse))\n",
    "print('R2 Score: '+ str(r2_score(y_test[colname], ya_pred)))\n",
    "try:\n",
    "    print(np.around(model.coef_,4))\n",
    "except:\n",
    "    print(np.around(model.feature_importances_,4))\n",
    "print('\\n')"
   ]
  },
  {
   "cell_type": "code",
   "execution_count": null,
   "metadata": {},
   "outputs": [],
   "source": []
  },
  {
   "cell_type": "code",
   "execution_count": 14,
   "metadata": {},
   "outputs": [
    {
     "data": {
      "image/png": "[encoded data removed]",
      "text/plain": [
       "<Figure size 1152x576 with 1 Axes>"
      ]
     },
     "metadata": {
      "needs_background": "light"
     },
     "output_type": "display_data"
    }
   ],
   "source": [
    "y_test['yb'].plot(kind='kde',c='b')\n",
    "pd.Series(ya_pred).plot(kind='kde',c='r')\n",
    "fig = plt.gcf()\n",
    "fig.set_size_inches(16,8)\n",
    "plt.title('Model fit', size=16)\n",
    "plt.legend(['Original Curve', 'Model'], fontsize = 'large')\n",
    "plt.show()"
   ]
  },
  {
   "cell_type": "code",
   "execution_count": null,
   "metadata": {},
   "outputs": [],
   "source": []
  },
  {
   "cell_type": "markdown",
   "metadata": {},
   "source": [
    "## ya"
   ]
  },
  {
   "cell_type": "code",
   "execution_count": 15,
   "metadata": {},
   "outputs": [
    {
     "data": {
      "text/plain": [
       "count    100000.000000\n",
       "mean          3.827867\n",
       "std          18.438514\n",
       "min         -64.021995\n",
       "25%          -8.998020\n",
       "50%           2.666992\n",
       "75%          15.579687\n",
       "max         107.713997\n",
       "Name: ya, dtype: float64"
      ]
     },
     "execution_count": 15,
     "metadata": {},
     "output_type": "execute_result"
    }
   ],
   "source": [
    "df['ya'].describe()"
   ]
  },
  {
   "cell_type": "code",
   "execution_count": 16,
   "metadata": {},
   "outputs": [
    {
     "data": {
      "text/plain": [
       "(array([1.1300e+02, 2.3240e+03, 1.6245e+04, 3.5546e+04, 2.9296e+04,\n",
       "        1.2762e+04, 3.2130e+03, 4.5000e+02, 4.6000e+01, 5.0000e+00]),\n",
       " array([-64.02199458, -46.84839544, -29.6747963 , -12.50119717,\n",
       "          4.67240197,  21.84600111,  39.01960025,  56.19319939,\n",
       "         73.36679852,  90.54039766, 107.7139968 ]),\n",
       " <a list of 10 Patch objects>)"
      ]
     },
     "execution_count": 16,
     "metadata": {},
     "output_type": "execute_result"
    },
    {
     "data": {
      "image/png": "[encoded data removed]",
      "text/plain": [
       "<Figure size 432x288 with 1 Axes>"
      ]
     },
     "metadata": {
      "needs_background": "light"
     },
     "output_type": "display_data"
    }
   ],
   "source": [
    "plt.hist(df['ya'])"
   ]
  },
  {
   "cell_type": "code",
   "execution_count": 17,
   "metadata": {},
   "outputs": [
    {
     "data": {
      "text/html": [
       "<div>\n",
       "<style scoped>\n",
       "    .dataframe tbody tr th:only-of-type {\n",
       "        vertical-align: middle;\n",
       "    }\n",
       "\n",
       "    .dataframe tbody tr th {\n",
       "        vertical-align: top;\n",
       "    }\n",
       "\n",
       "    .dataframe thead th {\n",
       "        text-align: right;\n",
       "    }\n",
       "</style>\n",
       "<table border=\"1\" class=\"dataframe\">\n",
       "  <thead>\n",
       "    <tr style=\"text-align: right;\">\n",
       "      <th></th>\n",
       "      <th>ya</th>\n",
       "    </tr>\n",
       "  </thead>\n",
       "  <tbody>\n",
       "    <tr>\n",
       "      <th>x1</th>\n",
       "      <td>0.465</td>\n",
       "    </tr>\n",
       "    <tr>\n",
       "      <th>x2</th>\n",
       "      <td>0.676</td>\n",
       "    </tr>\n",
       "    <tr>\n",
       "      <th>x3</th>\n",
       "      <td>0.411</td>\n",
       "    </tr>\n",
       "    <tr>\n",
       "      <th>x5</th>\n",
       "      <td>0.002</td>\n",
       "    </tr>\n",
       "    <tr>\n",
       "      <th>x6</th>\n",
       "      <td>0.002</td>\n",
       "    </tr>\n",
       "    <tr>\n",
       "      <th>ya</th>\n",
       "      <td>1.000</td>\n",
       "    </tr>\n",
       "    <tr>\n",
       "      <th>yb</th>\n",
       "      <td>0.572</td>\n",
       "    </tr>\n",
       "    <tr>\n",
       "      <th>yc</th>\n",
       "      <td>0.422</td>\n",
       "    </tr>\n",
       "  </tbody>\n",
       "</table>\n",
       "</div>"
      ],
      "text/plain": [
       "       ya\n",
       "x1  0.465\n",
       "x2  0.676\n",
       "x3  0.411\n",
       "x5  0.002\n",
       "x6  0.002\n",
       "ya  1.000\n",
       "yb  0.572\n",
       "yc  0.422"
      ]
     },
     "execution_count": 17,
     "metadata": {},
     "output_type": "execute_result"
    }
   ],
   "source": [
    "round(df.corr()[['ya']],3)"
   ]
  },
  {
   "cell_type": "code",
   "execution_count": 161,
   "metadata": {
    "scrolled": false
   },
   "outputs": [
    {
     "name": "stdout",
     "output_type": "stream",
     "text": [
      "0\n",
      "[[0.]]\n",
      "18.463781091901605\n",
      "R2 Score: -5.61609155431686e-05\n",
      "1\n",
      "[[0.     2.5241 6.2254 0.9348]]\n",
      "10.47648125017018\n",
      "R2 Score: 0.6780310547482367\n",
      "2\n",
      "[[ 0.0000e+00  3.0142e+00  3.6880e+00  8.5380e-01  9.9800e-02  5.0660e-01\n",
      "   1.7200e-02  2.4000e-03  7.0000e-03 -3.0000e-04]]\n",
      "10.020561616984216\n",
      "R2 Score: 0.7054444361645033\n",
      "3\n",
      "[[ 0.0000e+00  3.0869e+00  3.1354e+00  8.1350e-01  2.5000e-01  8.8470e-01\n",
      "   1.4500e-02  2.4900e-02 -4.0700e-02 -1.3300e-02 -1.6800e-02 -3.3200e-02\n",
      "   0.0000e+00  3.6000e-03 -1.0600e-02 -5.3000e-03  2.0000e-03 -9.1000e-03\n",
      "   9.7000e-03  9.1000e-03]]\n",
      "10.000691228639994\n",
      "R2 Score: 0.7066114626436342\n",
      "4\n",
      "[[-0.0000e+00  3.1911e+00  2.7090e+00  6.9730e-01  3.8840e-01  1.3371e+00\n",
      "   1.5720e-01 -1.5600e-02 -1.2480e-01 -5.5900e-02 -5.2900e-02 -1.4670e-01\n",
      "  -6.9400e-02  1.6100e-02  2.1800e-02  6.4200e-02  1.2000e-03 -1.1900e-02\n",
      "   6.4000e-03 -1.6800e-02  1.7000e-03  8.5000e-03  1.1600e-02  2.0000e-04\n",
      "  -5.1000e-03 -2.4500e-02  6.0000e-04 -3.3000e-03 -4.0000e-04  2.3700e-02\n",
      "   3.0000e-04  6.0000e-04  4.8000e-03  4.6000e-03 -8.1000e-03]]\n",
      "9.999283499933709\n",
      "R2 Score: 0.7066940534142708\n"
     ]
    }
   ],
   "source": [
    "for i in np.arange(5):\n",
    "    print(i)\n",
    "    X = X_train[['x1','x2','x3']]\n",
    "    vector = y_train[['ya']]\n",
    "    predict = X_test[['x1','x2','x3']]\n",
    "\n",
    "    poly = PolynomialFeatures(degree=i)\n",
    "    X_ = poly.fit_transform(X)\n",
    "    predict_ = poly.fit_transform(predict)\n",
    "\n",
    "    clf = LinearRegression()\n",
    "    clf.fit(X_, vector)\n",
    "    z = clf.predict(predict_)\n",
    "    mse = mean_squared_error(y_test['ya'], z)\n",
    "    rmse = np.sqrt(mse)\n",
    "    print(np.around(clf.coef_,4))\n",
    "    print(rmse)\n",
    "    print('R2 Score: '+ str(r2_score(y_test['ya'], z)))"
   ]
  },
  {
   "cell_type": "code",
   "execution_count": 19,
   "metadata": {},
   "outputs": [],
   "source": [
    "a = list(poly.get_feature_names())"
   ]
  },
  {
   "cell_type": "code",
   "execution_count": 20,
   "metadata": {},
   "outputs": [],
   "source": [
    "b = list(list(np.around(clf.coef_,4))[0])"
   ]
  },
  {
   "cell_type": "code",
   "execution_count": 21,
   "metadata": {},
   "outputs": [
    {
     "data": {
      "text/plain": [
       "['1', 'x0', 'x1', 'x2', 'x0^2', 'x0 x1', 'x0 x2', 'x1^2', 'x1 x2', 'x2^2']"
      ]
     },
     "execution_count": 21,
     "metadata": {},
     "output_type": "execute_result"
    }
   ],
   "source": [
    "a"
   ]
  },
  {
   "cell_type": "code",
   "execution_count": 22,
   "metadata": {},
   "outputs": [
    {
     "data": {
      "text/plain": [
       "[0.0, 3.0142, 3.688, 0.8538, 0.0998, 0.5066, 0.0172, 0.0024, 0.007, -0.0003]"
      ]
     },
     "execution_count": 22,
     "metadata": {},
     "output_type": "execute_result"
    }
   ],
   "source": [
    "b"
   ]
  },
  {
   "cell_type": "code",
   "execution_count": 23,
   "metadata": {},
   "outputs": [
    {
     "data": {
      "text/plain": [
       "['1*0.0+',\n",
       " 'x0*3.0142+',\n",
       " 'x1*3.688+',\n",
       " 'x2*0.8538+',\n",
       " 'x0^2*0.0998+',\n",
       " 'x0 x1*0.5066+',\n",
       " 'x0 x2*0.0172+',\n",
       " 'x1^2*0.0024+',\n",
       " 'x1 x2*0.007+',\n",
       " 'x2^2*-0.0003+']"
      ]
     },
     "execution_count": 23,
     "metadata": {},
     "output_type": "execute_result"
    }
   ],
   "source": [
    "[str(i)+'*'+str(j)+'+' for i,j in zip(a,b)]"
   ]
  },
  {
   "cell_type": "code",
   "execution_count": null,
   "metadata": {},
   "outputs": [],
   "source": []
  },
  {
   "cell_type": "code",
   "execution_count": 24,
   "metadata": {},
   "outputs": [
    {
     "data": {
      "image/png": "[encoded data removed]",
      "text/plain": [
       "<Figure size 1152x576 with 1 Axes>"
      ]
     },
     "metadata": {
      "needs_background": "light"
     },
     "output_type": "display_data"
    }
   ],
   "source": [
    "y_test['ya'].plot(kind='kde',c='b')\n",
    "pd.Series([i[0] for i in list(z)]).plot(kind='kde',c='r')\n",
    "fig = plt.gcf()\n",
    "fig.set_size_inches(16,8)\n",
    "plt.title('Model fit', size=16)\n",
    "plt.legend(['Original Curve', 'Model'], fontsize = 'large')\n",
    "plt.show()"
   ]
  },
  {
   "cell_type": "code",
   "execution_count": null,
   "metadata": {},
   "outputs": [],
   "source": []
  },
  {
   "cell_type": "markdown",
   "metadata": {},
   "source": [
    "## yc"
   ]
  },
  {
   "cell_type": "code",
   "execution_count": 265,
   "metadata": {},
   "outputs": [
    {
     "data": {
      "text/html": [
       "<div>\n",
       "<style scoped>\n",
       "    .dataframe tbody tr th:only-of-type {\n",
       "        vertical-align: middle;\n",
       "    }\n",
       "\n",
       "    .dataframe tbody tr th {\n",
       "        vertical-align: top;\n",
       "    }\n",
       "\n",
       "    .dataframe thead th {\n",
       "        text-align: right;\n",
       "    }\n",
       "</style>\n",
       "<table border=\"1\" class=\"dataframe\">\n",
       "  <thead>\n",
       "    <tr style=\"text-align: right;\">\n",
       "      <th></th>\n",
       "      <th>yc</th>\n",
       "    </tr>\n",
       "  </thead>\n",
       "  <tbody>\n",
       "    <tr>\n",
       "      <th>x1</th>\n",
       "      <td>0.003</td>\n",
       "    </tr>\n",
       "    <tr>\n",
       "      <th>x2</th>\n",
       "      <td>0.000</td>\n",
       "    </tr>\n",
       "    <tr>\n",
       "      <th>x3</th>\n",
       "      <td>-0.001</td>\n",
       "    </tr>\n",
       "    <tr>\n",
       "      <th>x5</th>\n",
       "      <td>0.003</td>\n",
       "    </tr>\n",
       "    <tr>\n",
       "      <th>x6</th>\n",
       "      <td>-0.000</td>\n",
       "    </tr>\n",
       "    <tr>\n",
       "      <th>ya</th>\n",
       "      <td>0.422</td>\n",
       "    </tr>\n",
       "    <tr>\n",
       "      <th>yb</th>\n",
       "      <td>0.203</td>\n",
       "    </tr>\n",
       "    <tr>\n",
       "      <th>yc</th>\n",
       "      <td>1.000</td>\n",
       "    </tr>\n",
       "  </tbody>\n",
       "</table>\n",
       "</div>"
      ],
      "text/plain": [
       "       yc\n",
       "x1  0.003\n",
       "x2  0.000\n",
       "x3 -0.001\n",
       "x5  0.003\n",
       "x6 -0.000\n",
       "ya  0.422\n",
       "yb  0.203\n",
       "yc  1.000"
      ]
     },
     "execution_count": 265,
     "metadata": {},
     "output_type": "execute_result"
    }
   ],
   "source": [
    "round(df.corr()[['yc']],3)"
   ]
  },
  {
   "cell_type": "code",
   "execution_count": 266,
   "metadata": {},
   "outputs": [
    {
     "data": {
      "text/html": [
       "<div>\n",
       "<style scoped>\n",
       "    .dataframe tbody tr th:only-of-type {\n",
       "        vertical-align: middle;\n",
       "    }\n",
       "\n",
       "    .dataframe tbody tr th {\n",
       "        vertical-align: top;\n",
       "    }\n",
       "\n",
       "    .dataframe thead th {\n",
       "        text-align: right;\n",
       "    }\n",
       "</style>\n",
       "<table border=\"1\" class=\"dataframe\">\n",
       "  <thead>\n",
       "    <tr style=\"text-align: right;\">\n",
       "      <th></th>\n",
       "      <th>yc</th>\n",
       "    </tr>\n",
       "  </thead>\n",
       "  <tbody>\n",
       "    <tr>\n",
       "      <th>count</th>\n",
       "      <td>100000.000</td>\n",
       "    </tr>\n",
       "    <tr>\n",
       "      <th>mean</th>\n",
       "      <td>0.000</td>\n",
       "    </tr>\n",
       "    <tr>\n",
       "      <th>std</th>\n",
       "      <td>0.031</td>\n",
       "    </tr>\n",
       "    <tr>\n",
       "      <th>min</th>\n",
       "      <td>-0.543</td>\n",
       "    </tr>\n",
       "    <tr>\n",
       "      <th>25%</th>\n",
       "      <td>-0.002</td>\n",
       "    </tr>\n",
       "    <tr>\n",
       "      <th>50%</th>\n",
       "      <td>-0.000</td>\n",
       "    </tr>\n",
       "    <tr>\n",
       "      <th>75%</th>\n",
       "      <td>0.002</td>\n",
       "    </tr>\n",
       "    <tr>\n",
       "      <th>max</th>\n",
       "      <td>0.818</td>\n",
       "    </tr>\n",
       "  </tbody>\n",
       "</table>\n",
       "</div>"
      ],
      "text/plain": [
       "               yc\n",
       "count  100000.000\n",
       "mean        0.000\n",
       "std         0.031\n",
       "min        -0.543\n",
       "25%        -0.002\n",
       "50%        -0.000\n",
       "75%         0.002\n",
       "max         0.818"
      ]
     },
     "execution_count": 266,
     "metadata": {},
     "output_type": "execute_result"
    }
   ],
   "source": [
    "round(df.describe()[['yc']],3)"
   ]
  },
  {
   "cell_type": "code",
   "execution_count": 302,
   "metadata": {},
   "outputs": [],
   "source": [
    "df_yc = copy.deepcopy(df[['x1', 'x2', 'x3', 'x5', 'x6','yc']])"
   ]
  },
  {
   "cell_type": "code",
   "execution_count": 303,
   "metadata": {},
   "outputs": [
    {
     "data": {
      "text/html": [
       "<div>\n",
       "<style scoped>\n",
       "    .dataframe tbody tr th:only-of-type {\n",
       "        vertical-align: middle;\n",
       "    }\n",
       "\n",
       "    .dataframe tbody tr th {\n",
       "        vertical-align: top;\n",
       "    }\n",
       "\n",
       "    .dataframe thead th {\n",
       "        text-align: right;\n",
       "    }\n",
       "</style>\n",
       "<table border=\"1\" class=\"dataframe\">\n",
       "  <thead>\n",
       "    <tr style=\"text-align: right;\">\n",
       "      <th></th>\n",
       "      <th>x1</th>\n",
       "      <th>x2</th>\n",
       "      <th>x3</th>\n",
       "      <th>x5</th>\n",
       "      <th>x6</th>\n",
       "      <th>yc</th>\n",
       "    </tr>\n",
       "  </thead>\n",
       "  <tbody>\n",
       "    <tr>\n",
       "      <th>count</th>\n",
       "      <td>100000.000000</td>\n",
       "      <td>100000.000000</td>\n",
       "      <td>100000.000000</td>\n",
       "      <td>100000.000000</td>\n",
       "      <td>100000.000000</td>\n",
       "      <td>1.000000e+05</td>\n",
       "    </tr>\n",
       "    <tr>\n",
       "      <th>mean</th>\n",
       "      <td>5.011059</td>\n",
       "      <td>-3.005565</td>\n",
       "      <td>2.500593</td>\n",
       "      <td>0.999136</td>\n",
       "      <td>0.000647</td>\n",
       "      <td>1.022765e-04</td>\n",
       "    </tr>\n",
       "    <tr>\n",
       "      <th>std</th>\n",
       "      <td>2.873568</td>\n",
       "      <td>2.000799</td>\n",
       "      <td>1.752906</td>\n",
       "      <td>1.002006</td>\n",
       "      <td>4.663860</td>\n",
       "      <td>3.121215e-02</td>\n",
       "    </tr>\n",
       "    <tr>\n",
       "      <th>min</th>\n",
       "      <td>0.000015</td>\n",
       "      <td>-12.498524</td>\n",
       "      <td>-3.489212</td>\n",
       "      <td>0.000003</td>\n",
       "      <td>-13.885453</td>\n",
       "      <td>-5.433613e-01</td>\n",
       "    </tr>\n",
       "    <tr>\n",
       "      <th>25%</th>\n",
       "      <td>2.536309</td>\n",
       "      <td>-4.353844</td>\n",
       "      <td>1.189920</td>\n",
       "      <td>0.285629</td>\n",
       "      <td>-2.611943</td>\n",
       "      <td>-2.423158e-03</td>\n",
       "    </tr>\n",
       "    <tr>\n",
       "      <th>50%</th>\n",
       "      <td>5.022191</td>\n",
       "      <td>-3.002649</td>\n",
       "      <td>2.503764</td>\n",
       "      <td>0.690903</td>\n",
       "      <td>-0.000611</td>\n",
       "      <td>-5.670000e-10</td>\n",
       "    </tr>\n",
       "    <tr>\n",
       "      <th>75%</th>\n",
       "      <td>7.486275</td>\n",
       "      <td>-1.649283</td>\n",
       "      <td>3.802236</td>\n",
       "      <td>1.386862</td>\n",
       "      <td>2.621841</td>\n",
       "      <td>2.476745e-03</td>\n",
       "    </tr>\n",
       "    <tr>\n",
       "      <th>max</th>\n",
       "      <td>9.999887</td>\n",
       "      <td>6.089820</td>\n",
       "      <td>8.679097</td>\n",
       "      <td>15.102966</td>\n",
       "      <td>13.924740</td>\n",
       "      <td>8.183882e-01</td>\n",
       "    </tr>\n",
       "  </tbody>\n",
       "</table>\n",
       "</div>"
      ],
      "text/plain": [
       "                  x1             x2             x3             x5  \\\n",
       "count  100000.000000  100000.000000  100000.000000  100000.000000   \n",
       "mean        5.011059      -3.005565       2.500593       0.999136   \n",
       "std         2.873568       2.000799       1.752906       1.002006   \n",
       "min         0.000015     -12.498524      -3.489212       0.000003   \n",
       "25%         2.536309      -4.353844       1.189920       0.285629   \n",
       "50%         5.022191      -3.002649       2.503764       0.690903   \n",
       "75%         7.486275      -1.649283       3.802236       1.386862   \n",
       "max         9.999887       6.089820       8.679097      15.102966   \n",
       "\n",
       "                  x6            yc  \n",
       "count  100000.000000  1.000000e+05  \n",
       "mean        0.000647  1.022765e-04  \n",
       "std         4.663860  3.121215e-02  \n",
       "min       -13.885453 -5.433613e-01  \n",
       "25%        -2.611943 -2.423158e-03  \n",
       "50%        -0.000611 -5.670000e-10  \n",
       "75%         2.621841  2.476745e-03  \n",
       "max        13.924740  8.183882e-01  "
      ]
     },
     "execution_count": 303,
     "metadata": {},
     "output_type": "execute_result"
    }
   ],
   "source": [
    "df_yc.describe()"
   ]
  },
  {
   "cell_type": "code",
   "execution_count": 304,
   "metadata": {},
   "outputs": [],
   "source": [
    "for i in df_yc.columns[:-1]:\n",
    "    df_yc[i] = (df_yc[i] - df_yc[i].min())/(df_yc[i].max() - df_yc[i].min())"
   ]
  },
  {
   "cell_type": "code",
   "execution_count": 305,
   "metadata": {},
   "outputs": [],
   "source": [
    "X_train, X_test, y_train, y_test = train_test_split(df_yc[['x1', 'x2', 'x3', 'x5', 'x6']], df_yc[['yc']], test_size=0.33, random_state=42)"
   ]
  },
  {
   "cell_type": "code",
   "execution_count": 306,
   "metadata": {
    "scrolled": true
   },
   "outputs": [
    {
     "data": {
      "text/html": [
       "<div>\n",
       "<style scoped>\n",
       "    .dataframe tbody tr th:only-of-type {\n",
       "        vertical-align: middle;\n",
       "    }\n",
       "\n",
       "    .dataframe tbody tr th {\n",
       "        vertical-align: top;\n",
       "    }\n",
       "\n",
       "    .dataframe thead th {\n",
       "        text-align: right;\n",
       "    }\n",
       "</style>\n",
       "<table border=\"1\" class=\"dataframe\">\n",
       "  <thead>\n",
       "    <tr style=\"text-align: right;\">\n",
       "      <th></th>\n",
       "      <th>x1</th>\n",
       "      <th>x2</th>\n",
       "      <th>x3</th>\n",
       "      <th>x5</th>\n",
       "      <th>x6</th>\n",
       "      <th>yc</th>\n",
       "    </tr>\n",
       "  </thead>\n",
       "  <tbody>\n",
       "    <tr>\n",
       "      <th>0</th>\n",
       "      <td>0.264260</td>\n",
       "      <td>0.580111</td>\n",
       "      <td>0.443656</td>\n",
       "      <td>0.001797</td>\n",
       "      <td>0.375340</td>\n",
       "      <td>0.008386</td>\n",
       "    </tr>\n",
       "    <tr>\n",
       "      <th>1</th>\n",
       "      <td>0.458881</td>\n",
       "      <td>0.537486</td>\n",
       "      <td>0.635119</td>\n",
       "      <td>0.112835</td>\n",
       "      <td>0.399229</td>\n",
       "      <td>0.000008</td>\n",
       "    </tr>\n",
       "    <tr>\n",
       "      <th>2</th>\n",
       "      <td>0.791988</td>\n",
       "      <td>0.397567</td>\n",
       "      <td>0.536530</td>\n",
       "      <td>0.065736</td>\n",
       "      <td>0.698918</td>\n",
       "      <td>-0.000005</td>\n",
       "    </tr>\n",
       "    <tr>\n",
       "      <th>3</th>\n",
       "      <td>0.261678</td>\n",
       "      <td>0.558118</td>\n",
       "      <td>0.521419</td>\n",
       "      <td>0.065555</td>\n",
       "      <td>0.560232</td>\n",
       "      <td>0.038017</td>\n",
       "    </tr>\n",
       "    <tr>\n",
       "      <th>4</th>\n",
       "      <td>0.330088</td>\n",
       "      <td>0.394809</td>\n",
       "      <td>0.349577</td>\n",
       "      <td>0.009507</td>\n",
       "      <td>0.617146</td>\n",
       "      <td>0.001178</td>\n",
       "    </tr>\n",
       "  </tbody>\n",
       "</table>\n",
       "</div>"
      ],
      "text/plain": [
       "         x1        x2        x3        x5        x6        yc\n",
       "0  0.264260  0.580111  0.443656  0.001797  0.375340  0.008386\n",
       "1  0.458881  0.537486  0.635119  0.112835  0.399229  0.000008\n",
       "2  0.791988  0.397567  0.536530  0.065736  0.698918 -0.000005\n",
       "3  0.261678  0.558118  0.521419  0.065555  0.560232  0.038017\n",
       "4  0.330088  0.394809  0.349577  0.009507  0.617146  0.001178"
      ]
     },
     "execution_count": 306,
     "metadata": {},
     "output_type": "execute_result"
    }
   ],
   "source": [
    "df_yc.head()"
   ]
  },
  {
   "cell_type": "code",
   "execution_count": 319,
   "metadata": {},
   "outputs": [
    {
     "data": {
      "image/png": "[encoded data removed]",
      "text/plain": [
       "<Figure size 720x576 with 4 Axes>"
      ]
     },
     "metadata": {
      "needs_background": "light"
     },
     "output_type": "display_data"
    }
   ],
   "source": [
    "fig, axs = plt.subplots(2, 2)\n",
    "axs[0, 0].scatter(df_yc['x2'], df_yc['yc'])\n",
    "axs[0, 0].set_title('x2')\n",
    "axs[0, 1].scatter(df_yc['x3'], df_yc['yc'], c='r', alpha = 0.5)\n",
    "axs[0, 1].set_title('x3')\n",
    "axs[1, 0].scatter(df_yc['x5'], df_yc['yc'], c='g', alpha = 0.5)\n",
    "axs[1, 0].set_title('x5')\n",
    "axs[1, 1].scatter(df_yc['x6'], df_yc['yc'], c='y', alpha = 0.5)\n",
    "axs[1, 1].set_title('x6')\n",
    "\n",
    "for ax in axs.flat:\n",
    "    ax.label_outer()\n",
    "\n",
    "fig = plt.gcf()\n",
    "fig.set_size_inches(10,8)"
   ]
  },
  {
   "cell_type": "code",
   "execution_count": 308,
   "metadata": {},
   "outputs": [
    {
     "data": {
      "text/plain": [
       "count    100000.000\n",
       "mean          0.000\n",
       "std           0.031\n",
       "min          -0.543\n",
       "25%          -0.002\n",
       "50%          -0.000\n",
       "75%           0.002\n",
       "max           0.818\n",
       "Name: yc, dtype: float64"
      ]
     },
     "execution_count": 308,
     "metadata": {},
     "output_type": "execute_result"
    }
   ],
   "source": [
    "round(df_yc['yc'].describe(),3)"
   ]
  },
  {
   "cell_type": "code",
   "execution_count": 309,
   "metadata": {},
   "outputs": [],
   "source": [
    "from sklearn import neighbors"
   ]
  },
  {
   "cell_type": "code",
   "execution_count": 316,
   "metadata": {},
   "outputs": [
    {
     "name": "stderr",
     "output_type": "stream",
     "text": [
      "//anaconda3/lib/python3.7/site-packages/sklearn/model_selection/_split.py:1978: FutureWarning: The default value of cv will change from 3 to 5 in version 0.22. Specify it explicitly to silence this warning.\n",
      "  warnings.warn(CV_WARNING, FutureWarning)\n"
     ]
    },
    {
     "data": {
      "text/plain": [
       "{'C': 1.5, 'epsilon': 0.1, 'gamma': 1e-07, 'kernel': 'poly'}"
      ]
     },
     "execution_count": 316,
     "metadata": {},
     "output_type": "execute_result"
    }
   ],
   "source": [
    "from sklearn.model_selection import GridSearchCV\n",
    "\n",
    "parameters = {'kernel': ('linear', 'rbf','poly'), 'C':[1.5, 10],'gamma': [1e-7, 1e-4],'epsilon':[0.1,0.2,0.5,0.3]}\n",
    "svr = SVR()\n",
    "clf = GridSearchCV(svr, parameters)\n",
    "clf.fit(X_train,y_train['yc'])\n",
    "clf.best_params_"
   ]
  },
  {
   "cell_type": "code",
   "execution_count": 317,
   "metadata": {},
   "outputs": [
    {
     "data": {
      "text/plain": [
       "SVR(C=1.5, cache_size=200, coef0=0.0, degree=3, epsilon=0.1, gamma=1e-07,\n",
       "    kernel='poly', max_iter=-1, shrinking=True, tol=0.001, verbose=False)"
      ]
     },
     "execution_count": 317,
     "metadata": {},
     "output_type": "execute_result"
    }
   ],
   "source": [
    "clf.best_estimator_"
   ]
  },
  {
   "cell_type": "code",
   "execution_count": 318,
   "metadata": {
    "scrolled": false
   },
   "outputs": [
    {
     "name": "stderr",
     "output_type": "stream",
     "text": [
      "//anaconda3/lib/python3.7/site-packages/sklearn/utils/validation.py:724: DataConversionWarning: A column-vector y was passed when a 1d array was expected. Please change the shape of y to (n_samples, ), for example using ravel().\n",
      "  y = column_or_1d(y, warn=True)\n",
      "//anaconda3/lib/python3.7/site-packages/sklearn/svm/base.py:193: FutureWarning: The default value of gamma will change from 'auto' to 'scale' in version 0.22 to account better for unscaled features. Set gamma explicitly to 'auto' or 'scale' to avoid this warning.\n",
      "  \"avoid this warning.\", FutureWarning)\n"
     ]
    },
    {
     "name": "stdout",
     "output_type": "stream",
     "text": [
      "SVR(C=1.0, cache_size=200, coef0=0.0, degree=3, epsilon=0.1,\n",
      "    gamma='auto_deprecated', kernel='rbf', max_iter=-1, shrinking=True,\n",
      "    tol=0.001, verbose=False)\n",
      "RMSE: 0.03142507832469157\n",
      "R2 Score: -0.01557829700904656\n",
      "\n",
      "\n"
     ]
    }
   ],
   "source": [
    "colname = ['yc']\n",
    "\n",
    "model = clf.best_estimator_\n",
    "model = SVR()\n",
    "model.fit(X_train, y_train[colname])\n",
    "ya_pred = model.predict(X_test)\n",
    "mse = mean_squared_error(y_test[colname], ya_pred)\n",
    "rmse = np.sqrt(mse)\n",
    "print(model)\n",
    "print('RMSE: ' + str(rmse))\n",
    "print('R2 Score: '+ str(r2_score(y_test[colname], ya_pred)))\n",
    "print('\\n')"
   ]
  },
  {
   "cell_type": "code",
   "execution_count": 321,
   "metadata": {},
   "outputs": [
    {
     "data": {
      "text/plain": [
       "array([0.00202739, 0.0037622 , 0.00301265, ..., 0.00347924, 0.0077659 ,\n",
       "       0.00290703])"
      ]
     },
     "execution_count": 321,
     "metadata": {},
     "output_type": "execute_result"
    }
   ],
   "source": [
    "ya_pred"
   ]
  },
  {
   "cell_type": "code",
   "execution_count": 322,
   "metadata": {},
   "outputs": [
    {
     "data": {
      "image/png": "[encoded data removed]",
      "text/plain": [
       "<Figure size 1152x576 with 1 Axes>"
      ]
     },
     "metadata": {
      "needs_background": "light"
     },
     "output_type": "display_data"
    }
   ],
   "source": [
    "y_test['yc'].plot(kind='kde',c='b')\n",
    "pd.Series(ya_pred).plot(kind='kde',c='r')\n",
    "fig = plt.gcf()\n",
    "fig.set_size_inches(16,8)\n",
    "plt.title('Model fit', size=16)\n",
    "plt.legend(['Original Curve', 'Model'], fontsize = 'large')\n",
    "plt.show()"
   ]
  },
  {
   "cell_type": "code",
   "execution_count": null,
   "metadata": {},
   "outputs": [],
   "source": []
  },
  {
   "cell_type": "code",
   "execution_count": null,
   "metadata": {},
   "outputs": [],
   "source": []
  },
  {
   "cell_type": "code",
   "execution_count": null,
   "metadata": {},
   "outputs": [],
   "source": []
  }
 ],
 "metadata": {
  "kernelspec": {
   "display_name": "Python 3",
   "language": "python",
   "name": "python3"
  },
  "language_info": {
   "codemirror_mode": {
    "name": "ipython",
    "version": 3
   },
   "file_extension": ".py",
   "mimetype": "text/x-python",
   "name": "python",
   "nbconvert_exporter": "python",
   "pygments_lexer": "ipython3",
   "version": "3.7.3"
  }
 },
 "nbformat": 4,
 "nbformat_minor": 2
}
